{
 "cells": [
  {
   "cell_type": "code",
   "execution_count": 6,
   "metadata": {
    "collapsed": false
   },
   "outputs": [
    {
     "name": "stdout",
     "output_type": "stream",
     "text": [
      "The autoreload extension is already loaded. To reload it, use:\n  %reload_ext autoreload\n"
     ]
    }
   ],
   "source": [
    "%load_ext autoreload\n",
    "%autoreload 2\n"
   ]
  },
  {
   "cell_type": "code",
   "execution_count": 2,
   "metadata": {
    "collapsed": false
   },
   "outputs": [
    {
     "name": "stdout",
     "output_type": "stream",
     "text": [
      "processing slide /src/workspace/slide-analysis-nn/train/datasets/source/slide_images/Tumor_044.tif\n(62829, 140689, 62837, 140692) (62825, 140688, 62841, 140693)\n(36052, 153821, 36057, 153827) (36050, 153818, 36059, 153830)\n"
     ]
    },
    {
     "name": "stdout",
     "output_type": "stream",
     "text": [
      "(65099, 137514, 65857, 137879) (64720, 137332, 66236, 138061)\n(35765, 153827, 37191, 155129) (35052, 153176, 37904, 155780)\n(66937, 158682, 68044, 159973) (66384, 158037, 68597, 160618)\n(64954, 145838, 66131, 146838) (64366, 145338, 66719, 147338)\n(54889, 165912, 59896, 168367) (52386, 164685, 62399, 169594)\n(63819, 145703, 65158, 146786) (63150, 145162, 65827, 147327)\n(67425, 143628, 69125, 146046) (66575, 142419, 69975, 147255)\n(58023, 133486, 61232, 136791)(60275, 149122, 63203, 152682) (58811, 147342, 64667, 154462)\n (56419, 131834, 62836, 138443)\n"
     ]
    },
    {
     "name": "stdout",
     "output_type": "stream",
     "text": [
      "(63650, 130210, 69199, 137839) (60876, 126396, 71973, 141653)\n"
     ]
    },
    {
     "name": "stdout",
     "output_type": "stream",
     "text": [
      "processing slide /src/workspace/slide-analysis-nn/train/datasets/source/slide_images/Tumor_026.tif\n(33395, 129532, 33401, 129550) (33392, 129523, 33404, 129559)\n(22283, 124299, 22292, 124304)(56472, 121418, 56473, 121418) (56472, 121418, 56473, 121418)\n (22279, 124297, 22296, 124306)\n(35827, 133631, 35842, 133652) (35820, 133621, 35849, 133662)\n(71031, 144284, 71036, 144287) (71029, 144283, 71038, 144288)\n(56400, 121416, 56560, 121510) (56320, 121369, 56640, 121557)\n(56568, 121055, 56723, 121242) (56491, 120962, 56800, 121335)\n(56431, 121610, 56544, 121705) (56375, 121563, 56600, 121752)\n(35843, 133609, 36122, 133945) (35704, 133441, 36261, 134113)\n(74555, 141102, 75541, 142030) (74062, 140638, 76034, 142494)\n(60459, 99222, 61223, 100287) (60077, 98690, 61605, 100819)\n(73832, 141569, 74168, 141762) (73664, 141473, 74336, 141858)\n(70334, 144284, 71312, 144572) (69845, 144140, 71801, 144716)\n(73090, 142988, 74234, 143685) (72518, 142640, 74806, 144033)\n"
     ]
    },
    {
     "name": "stdout",
     "output_type": "stream",
     "text": [
      "(92204, 126645, 92226, 126691) (92193, 126622, 92237, 126714)\n(91172, 126645, 92595, 130550) (90461, 124693, 93306, 132502)\n(59349, 132722, 65371, 138737) (56338, 129715, 68382, 141744)\n(75961, 190124, 79832, 194016) (74026, 188178, 81767, 195962)\n"
     ]
    },
    {
     "name": "stdout",
     "output_type": "stream",
     "text": [
      "(55713, 120356, 56672, 121966) (55234, 119551, 57151, 122771)\n"
     ]
    },
    {
     "name": "stdout",
     "output_type": "stream",
     "text": [
      "(59253, 158305, 62778, 164416) (57491, 155250, 64540, 167471)\n(79152, 164526, 81573, 166768) (77942, 163405, 82783, 167889)\n"
     ]
    },
    {
     "name": "stderr",
     "output_type": "stream",
     "text": [
      "Path /src/workspace/slide-analysis-nn/train/datasets/source/slide_images/Tumor_026_predicted.tif not exist\n"
     ]
    },
    {
     "name": "stdout",
     "output_type": "stream",
     "text": [
      "cut\n179.24632024765015\nTrain data set percentage = 100.00%\ntrain data distribution: {'Tumor': 0.7570139058306904, 'Background': 0.24298609416930958}\nvalidation data distribution: {}\n"
     ]
    }
   ],
   "source": [
    "from train.datasets_preparation import DatasetPreparation\n",
    "\n",
    "dataset_preparation = DatasetPreparation()\n",
    "dataset_preparation.populate_prepared_datasets()\n"
   ]
  },
  {
   "cell_type": "code",
   "execution_count": 1,
   "metadata": {
    "collapsed": true
   },
   "outputs": [
    {
     "name": "stderr",
     "output_type": "stream",
     "text": [
      "/opt/conda/lib/python3.6/site-packages/h5py/__init__.py:36: FutureWarning: Conversion of the second argument of issubdtype from `float` to `np.floating` is deprecated. In future, it will be treated as `np.float64 == np.dtype(float).type`.\n  from ._conv import register_converters as _register_converters\nUsing TensorFlow backend.\n"
     ]
    },
    {
     "ename": "SyntaxError",
     "evalue": "Please import Comet before importing any keras modules (<string>)",
     "traceback": [
      "Traceback \u001b[0;36m(most recent call last)\u001b[0m:\n",
      "  File \u001b[1;32m\"/opt/conda/lib/python3.6/site-packages/IPython/core/interactiveshell.py\"\u001b[0m, line \u001b[1;32m2963\u001b[0m, in \u001b[1;35mrun_code\u001b[0m\n    exec(code_obj, self.user_global_ns, self.user_ns)\n",
      "  File \u001b[1;32m\"<ipython-input-1-1285c6fb78ec>\"\u001b[0m, line \u001b[1;32m2\u001b[0m, in \u001b[1;35m<module>\u001b[0m\n    from train import Train\n",
      "  File \u001b[1;32m\"/src/workspace/slide-analysis-nn/train/__init__.py\"\u001b[0m, line \u001b[1;32m2\u001b[0m, in \u001b[1;35m<module>\u001b[0m\n    from train.train_model import Train\n",
      "  File \u001b[1;32m\"/src/workspace/slide-analysis-nn/train/train_model.py\"\u001b[0m, line \u001b[1;32m7\u001b[0m, in \u001b[1;35m<module>\u001b[0m\n    from comet_ml import Experiment\n",
      "  File \u001b[1;32m\"/opt/conda/lib/python3.6/site-packages/comet_ml/__init__.py\"\u001b[0m, line \u001b[1;32m40\u001b[0m, in \u001b[1;35m<module>\u001b[0m\n    from .keras_logger import patch as keras_patch\n",
      "\u001b[0;36m  File \u001b[0;32m\"/opt/conda/lib/python3.6/site-packages/comet_ml/keras_logger.py\"\u001b[0;36m, line \u001b[0;32m59\u001b[0;36m, in \u001b[0;35m<module>\u001b[0;36m\u001b[0m\n\u001b[0;31m    raise SyntaxError(\"Please import Comet before importing any keras modules\")\u001b[0m\n",
      "\u001b[0;36m  File \u001b[0;32m\"<string>\"\u001b[0;36m, line \u001b[0;32munknown\u001b[0m\n\u001b[0;31mSyntaxError\u001b[0m\u001b[0;31m:\u001b[0m Please import Comet before importing any keras modules\n"
     ],
     "output_type": "error"
    }
   ],
   "source": [
    "\n",
    "from train import Train\n",
    "\n",
    "train = Train()\n",
    "train.start_training()"
   ]
  },
  {
   "cell_type": "code",
   "execution_count": 1,
   "metadata": {
    "collapsed": false
   },
   "outputs": [
    {
     "name": "stderr",
     "output_type": "stream",
     "text": [
      "/opt/conda/lib/python3.6/site-packages/h5py/__init__.py:36: FutureWarning: Conversion of the second argument of issubdtype from `float` to `np.floating` is deprecated. In future, it will be treated as `np.float64 == np.dtype(float).type`.\n  from ._conv import register_converters as _register_converters\nUsing TensorFlow backend.\n"
     ]
    },
    {
     "ename": "SyntaxError",
     "evalue": "Please import Comet before importing any keras modules (<string>)",
     "traceback": [
      "Traceback \u001b[0;36m(most recent call last)\u001b[0m:\n",
      "  File \u001b[1;32m\"/opt/conda/lib/python3.6/site-packages/IPython/core/interactiveshell.py\"\u001b[0m, line \u001b[1;32m2963\u001b[0m, in \u001b[1;35mrun_code\u001b[0m\n    exec(code_obj, self.user_global_ns, self.user_ns)\n",
      "  File \u001b[1;32m\"<ipython-input-1-d1de8229a3f7>\"\u001b[0m, line \u001b[1;32m1\u001b[0m, in \u001b[1;35m<module>\u001b[0m\n    from prediction.predict import Predict\n",
      "  File \u001b[1;32m\"/src/workspace/slide-analysis-nn/prediction/__init__.py\"\u001b[0m, line \u001b[1;32m1\u001b[0m, in \u001b[1;35m<module>\u001b[0m\n    from prediction.predict_generator import PredictGenerator\n",
      "  File \u001b[1;32m\"/src/workspace/slide-analysis-nn/prediction/predict_generator.py\"\u001b[0m, line \u001b[1;32m8\u001b[0m, in \u001b[1;35m<module>\u001b[0m\n    from train.datasets_preparation import DatasetPreparation\n",
      "  File \u001b[1;32m\"/src/workspace/slide-analysis-nn/train/__init__.py\"\u001b[0m, line \u001b[1;32m1\u001b[0m, in \u001b[1;35m<module>\u001b[0m\n    from train.train_model import Train\n",
      "  File \u001b[1;32m\"/src/workspace/slide-analysis-nn/train/train_model.py\"\u001b[0m, line \u001b[1;32m5\u001b[0m, in \u001b[1;35m<module>\u001b[0m\n    from comet_ml import Experiment\n",
      "  File \u001b[1;32m\"/opt/conda/lib/python3.6/site-packages/comet_ml/__init__.py\"\u001b[0m, line \u001b[1;32m40\u001b[0m, in \u001b[1;35m<module>\u001b[0m\n    from .keras_logger import patch as keras_patch\n",
      "\u001b[0;36m  File \u001b[0;32m\"/opt/conda/lib/python3.6/site-packages/comet_ml/keras_logger.py\"\u001b[0;36m, line \u001b[0;32m59\u001b[0;36m, in \u001b[0;35m<module>\u001b[0;36m\u001b[0m\n\u001b[0;31m    raise SyntaxError(\"Please import Comet before importing any keras modules\")\u001b[0m\n",
      "\u001b[0;36m  File \u001b[0;32m\"<string>\"\u001b[0;36m, line \u001b[0;32munknown\u001b[0m\n\u001b[0;31mSyntaxError\u001b[0m\u001b[0;31m:\u001b[0m Please import Comet before importing any keras modules\n"
     ],
     "output_type": "error"
    }
   ],
   "source": [
    "from prediction.predict import Predict\n",
    "\n",
    "predict_example = Predict()\n",
    "prediction = predict_example.predict_slide('/src/workspace/slide-analysis-nn/train/datasets/source/slide_images/hidden/Tumor_015.tif', area_to_predict=((74000, 74000), (80000, 80000)))\n",
    "prediction.save_as_asap_annotations(truth_xml_path='/src/workspace/slide-analysis-nn/train/datasets/source/slide_images/hidden/Tumor_015true.xml')\n",
    "# print(prediction)"
   ]
  }
 ],
 "metadata": {
  "kernelspec": {
   "display_name": "Python 2",
   "language": "python",
   "name": "python2"
  },
  "language_info": {
   "codemirror_mode": {
    "name": "ipython",
    "version": 2
   },
   "file_extension": ".py",
   "mimetype": "text/x-python",
   "name": "python",
   "nbconvert_exporter": "python",
   "pygments_lexer": "ipython2",
   "version": "2.7.6"
  }
 },
 "nbformat": 4,
 "nbformat_minor": 0
}
